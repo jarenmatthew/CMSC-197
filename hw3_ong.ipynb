{
  "nbformat": 4,
  "nbformat_minor": 0,
  "metadata": {
    "colab": {
      "provenance": []
    },
    "kernelspec": {
      "name": "python3",
      "display_name": "Python 3"
    },
    "language_info": {
      "name": "python"
    }
  },
  "cells": [
    {
      "cell_type": "code",
      "source": [
        "import numpy as np\n",
        "import pandas as pd\n",
        "import matplotlib.pyplot as plt\n",
        "\n",
        "from sklearn.model_selection import train_test_split\n",
        "from sklearn.preprocessing import StandardScaler\n",
        "from sklearn.preprocessing import scale\n",
        "\n",
        "from sklearn.metrics import r2_score, mean_squared_error\n",
        "\n",
        "from sklearn.linear_model import LinearRegression"
      ],
      "metadata": {
        "id": "UD-tGldYh2TI"
      },
      "execution_count": 1,
      "outputs": []
    },
    {
      "cell_type": "code",
      "source": [
        "### 1. Load Advertising.csv dataset using pandas\n",
        "df = pd.read_csv(\"Advertising.csv\", index_col = 0)\n",
        "df.head()"
      ],
      "metadata": {
        "id": "utRgbxNekPFw",
        "colab": {
          "base_uri": "https://localhost:8080/",
          "height": 206
        },
        "outputId": "e3137d3e-484a-44bf-f860-f69a80b5234c"
      },
      "execution_count": 2,
      "outputs": [
        {
          "output_type": "execute_result",
          "data": {
            "text/plain": [
              "      TV  Radio  Newspaper  Sales\n",
              "1  230.1   37.8       69.2   22.1\n",
              "2   44.5   39.3       45.1   10.4\n",
              "3   17.2   45.9       69.3    9.3\n",
              "4  151.5   41.3       58.5   18.5\n",
              "5  180.8   10.8       58.4   12.9"
            ],
            "text/html": [
              "\n",
              "  <div id=\"df-fdcea4f3-d193-460a-8f68-e68c3dc3e038\" class=\"colab-df-container\">\n",
              "    <div>\n",
              "<style scoped>\n",
              "    .dataframe tbody tr th:only-of-type {\n",
              "        vertical-align: middle;\n",
              "    }\n",
              "\n",
              "    .dataframe tbody tr th {\n",
              "        vertical-align: top;\n",
              "    }\n",
              "\n",
              "    .dataframe thead th {\n",
              "        text-align: right;\n",
              "    }\n",
              "</style>\n",
              "<table border=\"1\" class=\"dataframe\">\n",
              "  <thead>\n",
              "    <tr style=\"text-align: right;\">\n",
              "      <th></th>\n",
              "      <th>TV</th>\n",
              "      <th>Radio</th>\n",
              "      <th>Newspaper</th>\n",
              "      <th>Sales</th>\n",
              "    </tr>\n",
              "  </thead>\n",
              "  <tbody>\n",
              "    <tr>\n",
              "      <th>1</th>\n",
              "      <td>230.1</td>\n",
              "      <td>37.8</td>\n",
              "      <td>69.2</td>\n",
              "      <td>22.1</td>\n",
              "    </tr>\n",
              "    <tr>\n",
              "      <th>2</th>\n",
              "      <td>44.5</td>\n",
              "      <td>39.3</td>\n",
              "      <td>45.1</td>\n",
              "      <td>10.4</td>\n",
              "    </tr>\n",
              "    <tr>\n",
              "      <th>3</th>\n",
              "      <td>17.2</td>\n",
              "      <td>45.9</td>\n",
              "      <td>69.3</td>\n",
              "      <td>9.3</td>\n",
              "    </tr>\n",
              "    <tr>\n",
              "      <th>4</th>\n",
              "      <td>151.5</td>\n",
              "      <td>41.3</td>\n",
              "      <td>58.5</td>\n",
              "      <td>18.5</td>\n",
              "    </tr>\n",
              "    <tr>\n",
              "      <th>5</th>\n",
              "      <td>180.8</td>\n",
              "      <td>10.8</td>\n",
              "      <td>58.4</td>\n",
              "      <td>12.9</td>\n",
              "    </tr>\n",
              "  </tbody>\n",
              "</table>\n",
              "</div>\n",
              "    <div class=\"colab-df-buttons\">\n",
              "\n",
              "  <div class=\"colab-df-container\">\n",
              "    <button class=\"colab-df-convert\" onclick=\"convertToInteractive('df-fdcea4f3-d193-460a-8f68-e68c3dc3e038')\"\n",
              "            title=\"Convert this dataframe to an interactive table.\"\n",
              "            style=\"display:none;\">\n",
              "\n",
              "  <svg xmlns=\"http://www.w3.org/2000/svg\" height=\"24px\" viewBox=\"0 -960 960 960\">\n",
              "    <path d=\"M120-120v-720h720v720H120Zm60-500h600v-160H180v160Zm220 220h160v-160H400v160Zm0 220h160v-160H400v160ZM180-400h160v-160H180v160Zm440 0h160v-160H620v160ZM180-180h160v-160H180v160Zm440 0h160v-160H620v160Z\"/>\n",
              "  </svg>\n",
              "    </button>\n",
              "\n",
              "  <style>\n",
              "    .colab-df-container {\n",
              "      display:flex;\n",
              "      gap: 12px;\n",
              "    }\n",
              "\n",
              "    .colab-df-convert {\n",
              "      background-color: #E8F0FE;\n",
              "      border: none;\n",
              "      border-radius: 50%;\n",
              "      cursor: pointer;\n",
              "      display: none;\n",
              "      fill: #1967D2;\n",
              "      height: 32px;\n",
              "      padding: 0 0 0 0;\n",
              "      width: 32px;\n",
              "    }\n",
              "\n",
              "    .colab-df-convert:hover {\n",
              "      background-color: #E2EBFA;\n",
              "      box-shadow: 0px 1px 2px rgba(60, 64, 67, 0.3), 0px 1px 3px 1px rgba(60, 64, 67, 0.15);\n",
              "      fill: #174EA6;\n",
              "    }\n",
              "\n",
              "    .colab-df-buttons div {\n",
              "      margin-bottom: 4px;\n",
              "    }\n",
              "\n",
              "    [theme=dark] .colab-df-convert {\n",
              "      background-color: #3B4455;\n",
              "      fill: #D2E3FC;\n",
              "    }\n",
              "\n",
              "    [theme=dark] .colab-df-convert:hover {\n",
              "      background-color: #434B5C;\n",
              "      box-shadow: 0px 1px 3px 1px rgba(0, 0, 0, 0.15);\n",
              "      filter: drop-shadow(0px 1px 2px rgba(0, 0, 0, 0.3));\n",
              "      fill: #FFFFFF;\n",
              "    }\n",
              "  </style>\n",
              "\n",
              "    <script>\n",
              "      const buttonEl =\n",
              "        document.querySelector('#df-fdcea4f3-d193-460a-8f68-e68c3dc3e038 button.colab-df-convert');\n",
              "      buttonEl.style.display =\n",
              "        google.colab.kernel.accessAllowed ? 'block' : 'none';\n",
              "\n",
              "      async function convertToInteractive(key) {\n",
              "        const element = document.querySelector('#df-fdcea4f3-d193-460a-8f68-e68c3dc3e038');\n",
              "        const dataTable =\n",
              "          await google.colab.kernel.invokeFunction('convertToInteractive',\n",
              "                                                    [key], {});\n",
              "        if (!dataTable) return;\n",
              "\n",
              "        const docLinkHtml = 'Like what you see? Visit the ' +\n",
              "          '<a target=\"_blank\" href=https://colab.research.google.com/notebooks/data_table.ipynb>data table notebook</a>'\n",
              "          + ' to learn more about interactive tables.';\n",
              "        element.innerHTML = '';\n",
              "        dataTable['output_type'] = 'display_data';\n",
              "        await google.colab.output.renderOutput(dataTable, element);\n",
              "        const docLink = document.createElement('div');\n",
              "        docLink.innerHTML = docLinkHtml;\n",
              "        element.appendChild(docLink);\n",
              "      }\n",
              "    </script>\n",
              "  </div>\n",
              "\n",
              "\n",
              "<div id=\"df-92ce1d8a-e2f4-4d39-96d5-18551906ae2d\">\n",
              "  <button class=\"colab-df-quickchart\" onclick=\"quickchart('df-92ce1d8a-e2f4-4d39-96d5-18551906ae2d')\"\n",
              "            title=\"Suggest charts\"\n",
              "            style=\"display:none;\">\n",
              "\n",
              "<svg xmlns=\"http://www.w3.org/2000/svg\" height=\"24px\"viewBox=\"0 0 24 24\"\n",
              "     width=\"24px\">\n",
              "    <g>\n",
              "        <path d=\"M19 3H5c-1.1 0-2 .9-2 2v14c0 1.1.9 2 2 2h14c1.1 0 2-.9 2-2V5c0-1.1-.9-2-2-2zM9 17H7v-7h2v7zm4 0h-2V7h2v10zm4 0h-2v-4h2v4z\"/>\n",
              "    </g>\n",
              "</svg>\n",
              "  </button>\n",
              "\n",
              "<style>\n",
              "  .colab-df-quickchart {\n",
              "      --bg-color: #E8F0FE;\n",
              "      --fill-color: #1967D2;\n",
              "      --hover-bg-color: #E2EBFA;\n",
              "      --hover-fill-color: #174EA6;\n",
              "      --disabled-fill-color: #AAA;\n",
              "      --disabled-bg-color: #DDD;\n",
              "  }\n",
              "\n",
              "  [theme=dark] .colab-df-quickchart {\n",
              "      --bg-color: #3B4455;\n",
              "      --fill-color: #D2E3FC;\n",
              "      --hover-bg-color: #434B5C;\n",
              "      --hover-fill-color: #FFFFFF;\n",
              "      --disabled-bg-color: #3B4455;\n",
              "      --disabled-fill-color: #666;\n",
              "  }\n",
              "\n",
              "  .colab-df-quickchart {\n",
              "    background-color: var(--bg-color);\n",
              "    border: none;\n",
              "    border-radius: 50%;\n",
              "    cursor: pointer;\n",
              "    display: none;\n",
              "    fill: var(--fill-color);\n",
              "    height: 32px;\n",
              "    padding: 0;\n",
              "    width: 32px;\n",
              "  }\n",
              "\n",
              "  .colab-df-quickchart:hover {\n",
              "    background-color: var(--hover-bg-color);\n",
              "    box-shadow: 0 1px 2px rgba(60, 64, 67, 0.3), 0 1px 3px 1px rgba(60, 64, 67, 0.15);\n",
              "    fill: var(--button-hover-fill-color);\n",
              "  }\n",
              "\n",
              "  .colab-df-quickchart-complete:disabled,\n",
              "  .colab-df-quickchart-complete:disabled:hover {\n",
              "    background-color: var(--disabled-bg-color);\n",
              "    fill: var(--disabled-fill-color);\n",
              "    box-shadow: none;\n",
              "  }\n",
              "\n",
              "  .colab-df-spinner {\n",
              "    border: 2px solid var(--fill-color);\n",
              "    border-color: transparent;\n",
              "    border-bottom-color: var(--fill-color);\n",
              "    animation:\n",
              "      spin 1s steps(1) infinite;\n",
              "  }\n",
              "\n",
              "  @keyframes spin {\n",
              "    0% {\n",
              "      border-color: transparent;\n",
              "      border-bottom-color: var(--fill-color);\n",
              "      border-left-color: var(--fill-color);\n",
              "    }\n",
              "    20% {\n",
              "      border-color: transparent;\n",
              "      border-left-color: var(--fill-color);\n",
              "      border-top-color: var(--fill-color);\n",
              "    }\n",
              "    30% {\n",
              "      border-color: transparent;\n",
              "      border-left-color: var(--fill-color);\n",
              "      border-top-color: var(--fill-color);\n",
              "      border-right-color: var(--fill-color);\n",
              "    }\n",
              "    40% {\n",
              "      border-color: transparent;\n",
              "      border-right-color: var(--fill-color);\n",
              "      border-top-color: var(--fill-color);\n",
              "    }\n",
              "    60% {\n",
              "      border-color: transparent;\n",
              "      border-right-color: var(--fill-color);\n",
              "    }\n",
              "    80% {\n",
              "      border-color: transparent;\n",
              "      border-right-color: var(--fill-color);\n",
              "      border-bottom-color: var(--fill-color);\n",
              "    }\n",
              "    90% {\n",
              "      border-color: transparent;\n",
              "      border-bottom-color: var(--fill-color);\n",
              "    }\n",
              "  }\n",
              "</style>\n",
              "\n",
              "  <script>\n",
              "    async function quickchart(key) {\n",
              "      const quickchartButtonEl =\n",
              "        document.querySelector('#' + key + ' button');\n",
              "      quickchartButtonEl.disabled = true;  // To prevent multiple clicks.\n",
              "      quickchartButtonEl.classList.add('colab-df-spinner');\n",
              "      try {\n",
              "        const charts = await google.colab.kernel.invokeFunction(\n",
              "            'suggestCharts', [key], {});\n",
              "      } catch (error) {\n",
              "        console.error('Error during call to suggestCharts:', error);\n",
              "      }\n",
              "      quickchartButtonEl.classList.remove('colab-df-spinner');\n",
              "      quickchartButtonEl.classList.add('colab-df-quickchart-complete');\n",
              "    }\n",
              "    (() => {\n",
              "      let quickchartButtonEl =\n",
              "        document.querySelector('#df-92ce1d8a-e2f4-4d39-96d5-18551906ae2d button');\n",
              "      quickchartButtonEl.style.display =\n",
              "        google.colab.kernel.accessAllowed ? 'block' : 'none';\n",
              "    })();\n",
              "  </script>\n",
              "</div>\n",
              "\n",
              "    </div>\n",
              "  </div>\n"
            ],
            "application/vnd.google.colaboratory.intrinsic+json": {
              "type": "dataframe",
              "variable_name": "df",
              "summary": "{\n  \"name\": \"df\",\n  \"rows\": 200,\n  \"fields\": [\n    {\n      \"column\": \"TV\",\n      \"properties\": {\n        \"dtype\": \"number\",\n        \"std\": 85.85423631490808,\n        \"min\": 0.7,\n        \"max\": 296.4,\n        \"num_unique_values\": 190,\n        \"samples\": [\n          287.6,\n          286.0,\n          78.2\n        ],\n        \"semantic_type\": \"\",\n        \"description\": \"\"\n      }\n    },\n    {\n      \"column\": \"Radio\",\n      \"properties\": {\n        \"dtype\": \"number\",\n        \"std\": 14.846809176168724,\n        \"min\": 0.0,\n        \"max\": 49.6,\n        \"num_unique_values\": 167,\n        \"samples\": [\n          8.2,\n          36.9,\n          44.5\n        ],\n        \"semantic_type\": \"\",\n        \"description\": \"\"\n      }\n    },\n    {\n      \"column\": \"Newspaper\",\n      \"properties\": {\n        \"dtype\": \"number\",\n        \"std\": 21.778620838522826,\n        \"min\": 0.3,\n        \"max\": 114.0,\n        \"num_unique_values\": 172,\n        \"samples\": [\n          22.3,\n          5.7,\n          17.0\n        ],\n        \"semantic_type\": \"\",\n        \"description\": \"\"\n      }\n    },\n    {\n      \"column\": \"Sales\",\n      \"properties\": {\n        \"dtype\": \"number\",\n        \"std\": 5.217456565710478,\n        \"min\": 1.6,\n        \"max\": 27.0,\n        \"num_unique_values\": 121,\n        \"samples\": [\n          11.4,\n          21.2,\n          12.9\n        ],\n        \"semantic_type\": \"\",\n        \"description\": \"\"\n      }\n    }\n  ]\n}"
            }
          },
          "metadata": {},
          "execution_count": 2
        }
      ]
    },
    {
      "cell_type": "code",
      "source": [
        "### 2. Standardize each column of the dataset\n",
        "y = df[\"Sales\"]\n",
        "x = df.drop(\"Sales\", axis=1)\n",
        "\n",
        "scaler = StandardScaler()\n",
        "X = scaler.fit_transform(x)\n",
        "X = pd.DataFrame(X, columns=x.columns)\n",
        "\n",
        "### 3. Add an extra column composing of all ones to X for the bias\n",
        "X.insert(0, 'bias', [1]*len(X))\n",
        "X.head()"
      ],
      "metadata": {
        "id": "Eh-HVtorf8HF",
        "colab": {
          "base_uri": "https://localhost:8080/",
          "height": 206
        },
        "outputId": "3ed848b9-d551-45eb-b315-c5c671b95188"
      },
      "execution_count": 3,
      "outputs": [
        {
          "output_type": "execute_result",
          "data": {
            "text/plain": [
              "   bias        TV     Radio  Newspaper\n",
              "0     1  0.969852  0.981522   1.778945\n",
              "1     1 -1.197376  1.082808   0.669579\n",
              "2     1 -1.516155  1.528463   1.783549\n",
              "3     1  0.052050  1.217855   1.286405\n",
              "4     1  0.394182 -0.841614   1.281802"
            ],
            "text/html": [
              "\n",
              "  <div id=\"df-fd97c05c-ba04-4cfc-8be2-26f0aaea5a9a\" class=\"colab-df-container\">\n",
              "    <div>\n",
              "<style scoped>\n",
              "    .dataframe tbody tr th:only-of-type {\n",
              "        vertical-align: middle;\n",
              "    }\n",
              "\n",
              "    .dataframe tbody tr th {\n",
              "        vertical-align: top;\n",
              "    }\n",
              "\n",
              "    .dataframe thead th {\n",
              "        text-align: right;\n",
              "    }\n",
              "</style>\n",
              "<table border=\"1\" class=\"dataframe\">\n",
              "  <thead>\n",
              "    <tr style=\"text-align: right;\">\n",
              "      <th></th>\n",
              "      <th>bias</th>\n",
              "      <th>TV</th>\n",
              "      <th>Radio</th>\n",
              "      <th>Newspaper</th>\n",
              "    </tr>\n",
              "  </thead>\n",
              "  <tbody>\n",
              "    <tr>\n",
              "      <th>0</th>\n",
              "      <td>1</td>\n",
              "      <td>0.969852</td>\n",
              "      <td>0.981522</td>\n",
              "      <td>1.778945</td>\n",
              "    </tr>\n",
              "    <tr>\n",
              "      <th>1</th>\n",
              "      <td>1</td>\n",
              "      <td>-1.197376</td>\n",
              "      <td>1.082808</td>\n",
              "      <td>0.669579</td>\n",
              "    </tr>\n",
              "    <tr>\n",
              "      <th>2</th>\n",
              "      <td>1</td>\n",
              "      <td>-1.516155</td>\n",
              "      <td>1.528463</td>\n",
              "      <td>1.783549</td>\n",
              "    </tr>\n",
              "    <tr>\n",
              "      <th>3</th>\n",
              "      <td>1</td>\n",
              "      <td>0.052050</td>\n",
              "      <td>1.217855</td>\n",
              "      <td>1.286405</td>\n",
              "    </tr>\n",
              "    <tr>\n",
              "      <th>4</th>\n",
              "      <td>1</td>\n",
              "      <td>0.394182</td>\n",
              "      <td>-0.841614</td>\n",
              "      <td>1.281802</td>\n",
              "    </tr>\n",
              "  </tbody>\n",
              "</table>\n",
              "</div>\n",
              "    <div class=\"colab-df-buttons\">\n",
              "\n",
              "  <div class=\"colab-df-container\">\n",
              "    <button class=\"colab-df-convert\" onclick=\"convertToInteractive('df-fd97c05c-ba04-4cfc-8be2-26f0aaea5a9a')\"\n",
              "            title=\"Convert this dataframe to an interactive table.\"\n",
              "            style=\"display:none;\">\n",
              "\n",
              "  <svg xmlns=\"http://www.w3.org/2000/svg\" height=\"24px\" viewBox=\"0 -960 960 960\">\n",
              "    <path d=\"M120-120v-720h720v720H120Zm60-500h600v-160H180v160Zm220 220h160v-160H400v160Zm0 220h160v-160H400v160ZM180-400h160v-160H180v160Zm440 0h160v-160H620v160ZM180-180h160v-160H180v160Zm440 0h160v-160H620v160Z\"/>\n",
              "  </svg>\n",
              "    </button>\n",
              "\n",
              "  <style>\n",
              "    .colab-df-container {\n",
              "      display:flex;\n",
              "      gap: 12px;\n",
              "    }\n",
              "\n",
              "    .colab-df-convert {\n",
              "      background-color: #E8F0FE;\n",
              "      border: none;\n",
              "      border-radius: 50%;\n",
              "      cursor: pointer;\n",
              "      display: none;\n",
              "      fill: #1967D2;\n",
              "      height: 32px;\n",
              "      padding: 0 0 0 0;\n",
              "      width: 32px;\n",
              "    }\n",
              "\n",
              "    .colab-df-convert:hover {\n",
              "      background-color: #E2EBFA;\n",
              "      box-shadow: 0px 1px 2px rgba(60, 64, 67, 0.3), 0px 1px 3px 1px rgba(60, 64, 67, 0.15);\n",
              "      fill: #174EA6;\n",
              "    }\n",
              "\n",
              "    .colab-df-buttons div {\n",
              "      margin-bottom: 4px;\n",
              "    }\n",
              "\n",
              "    [theme=dark] .colab-df-convert {\n",
              "      background-color: #3B4455;\n",
              "      fill: #D2E3FC;\n",
              "    }\n",
              "\n",
              "    [theme=dark] .colab-df-convert:hover {\n",
              "      background-color: #434B5C;\n",
              "      box-shadow: 0px 1px 3px 1px rgba(0, 0, 0, 0.15);\n",
              "      filter: drop-shadow(0px 1px 2px rgba(0, 0, 0, 0.3));\n",
              "      fill: #FFFFFF;\n",
              "    }\n",
              "  </style>\n",
              "\n",
              "    <script>\n",
              "      const buttonEl =\n",
              "        document.querySelector('#df-fd97c05c-ba04-4cfc-8be2-26f0aaea5a9a button.colab-df-convert');\n",
              "      buttonEl.style.display =\n",
              "        google.colab.kernel.accessAllowed ? 'block' : 'none';\n",
              "\n",
              "      async function convertToInteractive(key) {\n",
              "        const element = document.querySelector('#df-fd97c05c-ba04-4cfc-8be2-26f0aaea5a9a');\n",
              "        const dataTable =\n",
              "          await google.colab.kernel.invokeFunction('convertToInteractive',\n",
              "                                                    [key], {});\n",
              "        if (!dataTable) return;\n",
              "\n",
              "        const docLinkHtml = 'Like what you see? Visit the ' +\n",
              "          '<a target=\"_blank\" href=https://colab.research.google.com/notebooks/data_table.ipynb>data table notebook</a>'\n",
              "          + ' to learn more about interactive tables.';\n",
              "        element.innerHTML = '';\n",
              "        dataTable['output_type'] = 'display_data';\n",
              "        await google.colab.output.renderOutput(dataTable, element);\n",
              "        const docLink = document.createElement('div');\n",
              "        docLink.innerHTML = docLinkHtml;\n",
              "        element.appendChild(docLink);\n",
              "      }\n",
              "    </script>\n",
              "  </div>\n",
              "\n",
              "\n",
              "<div id=\"df-a12f084b-9e65-4b3b-a7c5-ac31149810c8\">\n",
              "  <button class=\"colab-df-quickchart\" onclick=\"quickchart('df-a12f084b-9e65-4b3b-a7c5-ac31149810c8')\"\n",
              "            title=\"Suggest charts\"\n",
              "            style=\"display:none;\">\n",
              "\n",
              "<svg xmlns=\"http://www.w3.org/2000/svg\" height=\"24px\"viewBox=\"0 0 24 24\"\n",
              "     width=\"24px\">\n",
              "    <g>\n",
              "        <path d=\"M19 3H5c-1.1 0-2 .9-2 2v14c0 1.1.9 2 2 2h14c1.1 0 2-.9 2-2V5c0-1.1-.9-2-2-2zM9 17H7v-7h2v7zm4 0h-2V7h2v10zm4 0h-2v-4h2v4z\"/>\n",
              "    </g>\n",
              "</svg>\n",
              "  </button>\n",
              "\n",
              "<style>\n",
              "  .colab-df-quickchart {\n",
              "      --bg-color: #E8F0FE;\n",
              "      --fill-color: #1967D2;\n",
              "      --hover-bg-color: #E2EBFA;\n",
              "      --hover-fill-color: #174EA6;\n",
              "      --disabled-fill-color: #AAA;\n",
              "      --disabled-bg-color: #DDD;\n",
              "  }\n",
              "\n",
              "  [theme=dark] .colab-df-quickchart {\n",
              "      --bg-color: #3B4455;\n",
              "      --fill-color: #D2E3FC;\n",
              "      --hover-bg-color: #434B5C;\n",
              "      --hover-fill-color: #FFFFFF;\n",
              "      --disabled-bg-color: #3B4455;\n",
              "      --disabled-fill-color: #666;\n",
              "  }\n",
              "\n",
              "  .colab-df-quickchart {\n",
              "    background-color: var(--bg-color);\n",
              "    border: none;\n",
              "    border-radius: 50%;\n",
              "    cursor: pointer;\n",
              "    display: none;\n",
              "    fill: var(--fill-color);\n",
              "    height: 32px;\n",
              "    padding: 0;\n",
              "    width: 32px;\n",
              "  }\n",
              "\n",
              "  .colab-df-quickchart:hover {\n",
              "    background-color: var(--hover-bg-color);\n",
              "    box-shadow: 0 1px 2px rgba(60, 64, 67, 0.3), 0 1px 3px 1px rgba(60, 64, 67, 0.15);\n",
              "    fill: var(--button-hover-fill-color);\n",
              "  }\n",
              "\n",
              "  .colab-df-quickchart-complete:disabled,\n",
              "  .colab-df-quickchart-complete:disabled:hover {\n",
              "    background-color: var(--disabled-bg-color);\n",
              "    fill: var(--disabled-fill-color);\n",
              "    box-shadow: none;\n",
              "  }\n",
              "\n",
              "  .colab-df-spinner {\n",
              "    border: 2px solid var(--fill-color);\n",
              "    border-color: transparent;\n",
              "    border-bottom-color: var(--fill-color);\n",
              "    animation:\n",
              "      spin 1s steps(1) infinite;\n",
              "  }\n",
              "\n",
              "  @keyframes spin {\n",
              "    0% {\n",
              "      border-color: transparent;\n",
              "      border-bottom-color: var(--fill-color);\n",
              "      border-left-color: var(--fill-color);\n",
              "    }\n",
              "    20% {\n",
              "      border-color: transparent;\n",
              "      border-left-color: var(--fill-color);\n",
              "      border-top-color: var(--fill-color);\n",
              "    }\n",
              "    30% {\n",
              "      border-color: transparent;\n",
              "      border-left-color: var(--fill-color);\n",
              "      border-top-color: var(--fill-color);\n",
              "      border-right-color: var(--fill-color);\n",
              "    }\n",
              "    40% {\n",
              "      border-color: transparent;\n",
              "      border-right-color: var(--fill-color);\n",
              "      border-top-color: var(--fill-color);\n",
              "    }\n",
              "    60% {\n",
              "      border-color: transparent;\n",
              "      border-right-color: var(--fill-color);\n",
              "    }\n",
              "    80% {\n",
              "      border-color: transparent;\n",
              "      border-right-color: var(--fill-color);\n",
              "      border-bottom-color: var(--fill-color);\n",
              "    }\n",
              "    90% {\n",
              "      border-color: transparent;\n",
              "      border-bottom-color: var(--fill-color);\n",
              "    }\n",
              "  }\n",
              "</style>\n",
              "\n",
              "  <script>\n",
              "    async function quickchart(key) {\n",
              "      const quickchartButtonEl =\n",
              "        document.querySelector('#' + key + ' button');\n",
              "      quickchartButtonEl.disabled = true;  // To prevent multiple clicks.\n",
              "      quickchartButtonEl.classList.add('colab-df-spinner');\n",
              "      try {\n",
              "        const charts = await google.colab.kernel.invokeFunction(\n",
              "            'suggestCharts', [key], {});\n",
              "      } catch (error) {\n",
              "        console.error('Error during call to suggestCharts:', error);\n",
              "      }\n",
              "      quickchartButtonEl.classList.remove('colab-df-spinner');\n",
              "      quickchartButtonEl.classList.add('colab-df-quickchart-complete');\n",
              "    }\n",
              "    (() => {\n",
              "      let quickchartButtonEl =\n",
              "        document.querySelector('#df-a12f084b-9e65-4b3b-a7c5-ac31149810c8 button');\n",
              "      quickchartButtonEl.style.display =\n",
              "        google.colab.kernel.accessAllowed ? 'block' : 'none';\n",
              "    })();\n",
              "  </script>\n",
              "</div>\n",
              "\n",
              "    </div>\n",
              "  </div>\n"
            ],
            "application/vnd.google.colaboratory.intrinsic+json": {
              "type": "dataframe",
              "variable_name": "X",
              "summary": "{\n  \"name\": \"X\",\n  \"rows\": 200,\n  \"fields\": [\n    {\n      \"column\": \"bias\",\n      \"properties\": {\n        \"dtype\": \"number\",\n        \"std\": 0,\n        \"min\": 1,\n        \"max\": 1,\n        \"num_unique_values\": 1,\n        \"samples\": [\n          1\n        ],\n        \"semantic_type\": \"\",\n        \"description\": \"\"\n      }\n    },\n    {\n      \"column\": \"TV\",\n      \"properties\": {\n        \"dtype\": \"number\",\n        \"std\": 1.002509414234171,\n        \"min\": -1.7088234692862663,\n        \"max\": 1.744029255437918,\n        \"num_unique_values\": 190,\n        \"samples\": [\n          1.6412727320102118\n        ],\n        \"semantic_type\": \"\",\n        \"description\": \"\"\n      }\n    },\n    {\n      \"column\": \"Radio\",\n      \"properties\": {\n        \"dtype\": \"number\",\n        \"std\": 1.0025094142341713,\n        \"min\": -1.5708681061368763,\n        \"max\": 1.778300483288375,\n        \"num_unique_values\": 167,\n        \"samples\": [\n          -1.0171749119173792\n        ],\n        \"semantic_type\": \"\",\n        \"description\": \"\"\n      }\n    },\n    {\n      \"column\": \"Newspaper\",\n      \"properties\": {\n        \"dtype\": \"number\",\n        \"std\": 1.002509414234171,\n        \"min\": -1.3926464877239573,\n        \"max\": 3.8411707150992718,\n        \"num_unique_values\": 172,\n        \"samples\": [\n          -0.37994658920055324\n        ],\n        \"semantic_type\": \"\",\n        \"description\": \"\"\n      }\n    }\n  ]\n}"
            }
          },
          "metadata": {},
          "execution_count": 3
        }
      ]
    },
    {
      "cell_type": "code",
      "source": [
        "### 4. Divide the dataset into training and testing, with 0.85 and 0.25 ratio, respectively.\n",
        "x_train, x_test, y_train, y_test = train_test_split(X, y, test_size=0.25, random_state=42)\n",
        "\n",
        "print(\"x_train shape:\", x_train.shape)\n",
        "print(\"x_test shape:\", x_test.shape)\n",
        "print(\"y_train shape:\", y_train.shape)\n",
        "print(\"y_test shape:\", y_test.shape)"
      ],
      "metadata": {
        "colab": {
          "base_uri": "https://localhost:8080/"
        },
        "id": "xSdEGY4hHAYF",
        "outputId": "107d1c78-4d2a-4558-9bcc-fdc02ea4e85d"
      },
      "execution_count": 4,
      "outputs": [
        {
          "output_type": "stream",
          "name": "stdout",
          "text": [
            "x_train shape: (150, 4)\n",
            "x_test shape: (50, 4)\n",
            "y_train shape: (150,)\n",
            "y_test shape: (50,)\n"
          ]
        }
      ]
    },
    {
      "cell_type": "code",
      "source": [
        "### 5. Fit the model on the training set.\n",
        "\n",
        "# initialize weight either 0 or random\n",
        "def initialize_weights():\n",
        "    return np.array([0.0, 0.0, 0.0, 0.0])\n",
        "\n",
        "# returns predicted values (y_hat)\n",
        "def predict(x, w):\n",
        "    return np.dot(x,w)\n",
        "\n",
        "# returns cost or error (scalar value)\n",
        "def compute_cost(x, y, w):\n",
        "    predictions = predict(x, w)\n",
        "    cost = (1 / (2 * len(y))) * np.sum((predictions - y)**2)\n",
        "\n",
        "    return cost\n",
        "\n",
        "# returns matrix w of partial derivative of cost function\n",
        "# shape should be 4x1\n",
        "def compute_gradient(x, y, w):\n",
        "    predictions = predict(x, w)\n",
        "    gradient = (1 / len(y)) * np.dot(x.T, predictions - y)\n",
        "\n",
        "    return gradient\n",
        "\n",
        "# returns updated weights\n",
        "def update_weights(w, gradient, alpha):\n",
        "    return w - alpha * gradient\n",
        "\n",
        "# returns 2 matrices: weights and cost values per iteration\n",
        "# calls functions 1-5 until number of iterations is done\n",
        "def grad_descent(x, y, alpha, iterations):\n",
        "    weights = initialize_weights()\n",
        "    costs = []\n",
        "\n",
        "    for i in range(iterations):\n",
        "        cost = compute_cost(x, y, weights)\n",
        "        costs.append(cost)\n",
        "\n",
        "        gradient = compute_gradient(x, y, weights)\n",
        "\n",
        "        weights = update_weights(weights, gradient, alpha)\n",
        "\n",
        "    return weights, costs\n",
        "\n",
        "# plot the costs as a function of iteration\n",
        "def plot_costs(costs):\n",
        "    plt.plot(costs, label='Cost')\n",
        "    plt.title('Cost per iteration')\n",
        "    plt.xlabel('Iterations')\n",
        "    plt.ylabel('Cost')\n",
        "    plt.show()\n",
        "\n",
        "\n",
        "alpha = 0.01\n",
        "iterations = 1000\n",
        "weights, costs = grad_descent(x_train, y_train, alpha, iterations)\n",
        "plot_costs(costs)\n"
      ],
      "metadata": {
        "colab": {
          "base_uri": "https://localhost:8080/",
          "height": 472
        },
        "id": "1wTJTzBoO4n0",
        "outputId": "3d220563-1ca3-4c42-c43e-54acfa11bd15"
      },
      "execution_count": 5,
      "outputs": [
        {
          "output_type": "display_data",
          "data": {
            "text/plain": [
              "<Figure size 640x480 with 1 Axes>"
            ],
            "image/png": "[encoded data removed]"
          },
          "metadata": {}
        }
      ]
    },
    {
      "cell_type": "code",
      "source": [
        "# 6. Predict y for train set and calculate the cost.\n",
        "train_pred = predict(x_train, weights)\n",
        "train_cost = compute_cost(x_train, y_train, weights)\n",
        "print(f\"Train Cost: {train_cost}\")\n",
        "\n",
        "# 7. Predict y for test set and calculate the cost\n",
        "test_pred = predict(x_test, weights)\n",
        "test_cost = compute_cost(x_test, y_test, weights)\n",
        "print(f\"Test Cost: {test_cost}\")"
      ],
      "metadata": {
        "colab": {
          "base_uri": "https://localhost:8080/"
        },
        "id": "yR3xzOlDO4vT",
        "outputId": "3beba8d2-4bdf-41e6-e6c7-5890b17ea444"
      },
      "execution_count": 6,
      "outputs": [
        {
          "output_type": "stream",
          "name": "stdout",
          "text": [
            "Train Cost: 1.3839495897488712\n",
            "Test Cost: 1.4403871759225526\n"
          ]
        }
      ]
    },
    {
      "cell_type": "code",
      "source": [
        "### 8. Revert standardized data into original form\n",
        "def revert_standardization  (data):\n",
        "    return data * scaler.scale_[-1] + scaler.mean_[-1]\n",
        "\n",
        "train_orig = revert_standardization(train_pred)\n",
        "test_orig = revert_standardization(test_pred)\n",
        "\n",
        "print(f\"Train Predictions with Original Data: {train_orig}\")\n",
        "print(f\"Test Predictions with Original Data: {test_orig}\")"
      ],
      "metadata": {
        "colab": {
          "base_uri": "https://localhost:8080/"
        },
        "id": "eAKUsoYWsoui",
        "outputId": "421d71ca-c69d-4bee-8129-225cc0d6eaf2"
      },
      "execution_count": 7,
      "outputs": [
        {
          "output_type": "stream",
          "name": "stdout",
          "text": [
            "Train Predictions with Original Data: [364.57987969 287.36496735 307.07259998 263.19936774 170.48716185\n",
            " 244.13221317 234.73741343 555.62913448 194.75373524 300.82415205\n",
            " 415.94114469 361.95505894 276.89404603 264.09648321 395.3692817\n",
            " 177.82793605 495.91498141 160.99399546 244.35727929 278.76905129\n",
            " 230.0927932  170.58594108 353.56895797 406.66498538 372.94105013\n",
            " 384.01314952 354.43914218 455.93343638 331.19745929 488.7402071\n",
            " 302.6623333  329.09699954 222.65557964 399.85186411 210.64114046\n",
            " 361.8999517  327.1361242  536.65363722 301.01206904 529.46238974\n",
            " 172.88957205 433.62004736 540.21624216 436.18917213 402.78485029\n",
            " 386.94637472 299.37333273 285.32305596 398.62635594 344.43632744\n",
            " 317.64922353 194.8172953  448.72614791 237.79519018 455.09942959\n",
            " 249.62204379 181.64856564 393.10723666 328.45487159 358.73173449\n",
            " 266.06996781 479.1499959  549.23868888 427.16103644 416.84400113\n",
            " 356.90807972 399.84724863 224.99363317 405.63721871 450.43371214\n",
            " 385.29224329 106.97294378 143.4687947  367.29968107 366.07788558\n",
            " 388.00272538 431.68144729 537.16835124 346.78720783 474.48500636\n",
            " 404.94955892 501.23346429 255.71483063 364.50189004 331.56670007\n",
            " 242.15999615 415.48245998 423.28126577 466.55620954 449.70314795\n",
            " 256.75307053 374.95881323 481.80842914 207.69422398 278.55923239\n",
            " 191.59878493 291.66280025 351.15294797 127.27734312 345.41243293\n",
            " 462.76949469 330.6084652  400.91693938 108.15640327 219.12936536\n",
            " 422.00300201 342.88862381 367.22973086 536.48483476 255.60431147\n",
            " 569.87198334 291.55505555 317.76011609 557.67048182 315.75846253\n",
            " 470.80966245 182.72025102 303.01267275 204.70411667 507.2933972\n",
            " 383.73224944 288.30867966 347.78987162 306.08674707 338.17236192\n",
            " 126.74730629 202.10366688 372.58518046 245.57443423 430.28210538\n",
            " 300.76665647 480.10213366 243.42835482 256.64844019 248.07901573\n",
            " 348.88474207 400.3177212  289.21158707 372.57451275 404.52746904\n",
            " 202.56737368 356.23732767 424.7036138  431.17514406 260.54756709\n",
            " 163.0100667  431.76480527 448.44348521 296.93350903 410.69376634]\n",
            "Test Predictions with Original Data: [386.49214082 485.0854078  500.13966939 258.42168991 512.15894717\n",
            " 313.54714735 488.91407157 189.52001348 325.31006695 359.07083125\n",
            " 224.33513994 171.7824367  341.44906768 221.01826784 238.86638948\n",
            " 293.36134257 217.28571871 383.59311026 251.47356047 440.1467486\n",
            " 455.99378779 316.57696715 296.56372872 494.46073486 197.69297414\n",
            " 153.25545448 482.30262186 289.24042068 227.51031324 212.33202246\n",
            " 300.15080453 245.45254599 496.02041663 294.39961692 427.89179543\n",
            " 468.86186407 334.37534755 484.64604817 267.97568359 125.88745156\n",
            " 238.73667578 304.62222246 246.43750179 205.81129163 322.87998206\n",
            " 144.77280301 229.45016286 336.7217987  219.83335734 281.41650143]\n"
          ]
        }
      ]
    },
    {
      "cell_type": "markdown",
      "source": [
        "### Observe the cost results and analyse.\n",
        "The model has a low cost, which suggests that it reasonably predicts the actual sales data. By minimizing the cost, you can find the best-fitting line and accurately predict the actual target values."
      ],
      "metadata": {
        "id": "tDVV0_gP6WcV"
      }
    },
    {
      "cell_type": "markdown",
      "source": [
        "**Questions**"
      ],
      "metadata": {
        "id": "96wycBoQAotS"
      }
    },
    {
      "cell_type": "code",
      "source": [
        "## 1. What are the optimal weights found by your implemented gradient descent? Plug it into the linear model:\n",
        "\n",
        "print(f\"Optimal Weights: {weights}\")\n",
        "\n",
        "  ##  What are your interpretations regarding the formed linear model?\n",
        "\n",
        "    # The intercept 13.99 is the value when all inputs are 0.\n",
        "    # The coefficient for TV is the highest which suggests has the strongest impact when it comes to sales.\n",
        "    # Radio has a lower coefficient but also contributes to sales but to a lesser extent.\n",
        "    # Newspaper's minimal coefficient implies that it has a very small impact on sales."
      ],
      "metadata": {
        "colab": {
          "base_uri": "https://localhost:8080/"
        },
        "id": "Y4QfcBlEAnmH",
        "outputId": "27f6e65d-85ac-495e-cb16-ce8453348720"
      },
      "execution_count": 8,
      "outputs": [
        {
          "output_type": "stream",
          "name": "stdout",
          "text": [
            "Optimal Weights: [13.99094292  3.89130413  2.833019    0.05850791]\n"
          ]
        }
      ]
    },
    {
      "cell_type": "code",
      "source": [
        "## 2.\n",
        "\n",
        "#  Scatterplot and r2 score for Train set\n",
        "train_r2 = r2_score(y_train, train_pred)\n",
        "print(f\"Train Set R2 Score: {train_r2}\")\n",
        "\n",
        "plt.scatter(y_train, train_pred, color='blue')\n",
        "plt.title('Train Set: Actual vs Predicted')\n",
        "plt.xlabel('Actual Sales')\n",
        "plt.ylabel('Predicted Sales')\n",
        "plt.grid(True)\n"
      ],
      "metadata": {
        "colab": {
          "base_uri": "https://localhost:8080/",
          "height": 489
        },
        "id": "RVaHpEgcB19N",
        "outputId": "f2b730b7-cdea-4b52-e1e5-569802b6183e"
      },
      "execution_count": 9,
      "outputs": [
        {
          "output_type": "stream",
          "name": "stdout",
          "text": [
            "Train Set R2 Score: 0.8966442502449699\n"
          ]
        },
        {
          "output_type": "display_data",
          "data": {
            "text/plain": [
              "<Figure size 640x480 with 1 Axes>"
            ],
            "image/png": "[encoded data removed]"
          },
          "metadata": {}
        }
      ]
    },
    {
      "cell_type": "code",
      "source": [
        "\n",
        "#  Scatterplot and r2 score for Test set\n",
        "test_r2 = r2_score(y_test, test_pred)\n",
        "print(f\"Test Set R2 Score: {test_r2}\")\n",
        "\n",
        "plt.scatter(y_test, test_pred, color='blue')\n",
        "plt.title('Test Set: Actual vs Predicted')\n",
        "plt.xlabel('Actual Sales')\n",
        "plt.ylabel('Predicted Sales')\n",
        "plt.grid(True)"
      ],
      "metadata": {
        "colab": {
          "base_uri": "https://localhost:8080/",
          "height": 489
        },
        "id": "pSrFHe-5Fsd1",
        "outputId": "335a8fc8-d669-4f9c-c3e4-ec6ea0e95f7f"
      },
      "execution_count": 10,
      "outputs": [
        {
          "output_type": "stream",
          "name": "stdout",
          "text": [
            "Test Set R2 Score: 0.8934885791348633\n"
          ]
        },
        {
          "output_type": "display_data",
          "data": {
            "text/plain": [
              "<Figure size 640x480 with 1 Axes>"
            ],
            "image/png": "[encoded data removed]"
          },
          "metadata": {}
        }
      ]
    },
    {
      "cell_type": "code",
      "source": [
        "## 3. What happens to the error, r2, and cost as the number of iterations increase?\n",
        "# Show your data and proof. You can alternatively plot your result data for visualization and check until 50000 iterations or more (actually).\n",
        "\n",
        "iteration_list = [100,1000,10000,50000]\n",
        "\n",
        "for i in iteration_list:\n",
        "    weights, costs = grad_descent(x_train, y_train, alpha, i)\n",
        "    train_pred = predict(x_train, weights)\n",
        "    test_pred = predict(x_test, weights)\n",
        "    train_r2 = r2_score(y_train, train_pred)\n",
        "    test_r2 = r2_score(y_test, test_pred)\n",
        "\n",
        "    print(f\"Iteration: {i}\")\n",
        "    print(f\"Train Set R2 Score: {train_r2}\")\n",
        "    print(f\"Test Set R2 Score: {test_r2}\")\n",
        "    print(f\"Cost: {costs[-1]}\")\n",
        "    print()\n",
        "\n"
      ],
      "metadata": {
        "colab": {
          "base_uri": "https://localhost:8080/"
        },
        "id": "CYUpTGeGHAcb",
        "outputId": "d368e827-a4fe-4c02-a9ae-e731d44d8af3"
      },
      "execution_count": 11,
      "outputs": [
        {
          "output_type": "stream",
          "name": "stdout",
          "text": [
            "Iteration: 100\n",
            "Train Set R2 Score: -0.1498298689858073\n",
            "Test Set R2 Score: -0.05610794814820719\n",
            "Cost: 15.69112521883486\n",
            "\n",
            "Iteration: 1000\n",
            "Train Set R2 Score: 0.8966442502449699\n",
            "Test Set R2 Score: 0.8934885791348633\n",
            "Cost: 1.3839496393389044\n",
            "\n",
            "Iteration: 10000\n",
            "Train Set R2 Score: 0.8966445527601499\n",
            "Test Set R2 Score: 0.8935163320163669\n",
            "Cost: 1.3839455390234863\n",
            "\n",
            "Iteration: 50000\n",
            "Train Set R2 Score: 0.8966445527601499\n",
            "Test Set R2 Score: 0.8935163320163669\n",
            "Cost: 1.3839455390234863\n",
            "\n"
          ]
        }
      ]
    },
    {
      "cell_type": "markdown",
      "source": [
        "As the number of iterations increases, the R2 score improves and shows a better fit between the model and the data. The cost also significantly improves and decreases at iterations 1000 and higher. After around 10,000 iterations, the improvements slow down and eventually stabilize."
      ],
      "metadata": {
        "id": "Hf9b8nWZKf7l"
      }
    },
    {
      "cell_type": "code",
      "source": [
        "## 4. Once you determine the optimal number of iterations, check the effect on the cost and error as you change the learning rate.\n",
        "## The common learning rates in machine learning include 0.1, 0.01, 0.001, 0.0001, 0.2 but you have the option to include others.\n",
        "## Visualize the cost function (vs the optimal number of iterations) of each learning rate in ONLY ONE PLOT. Provide your analysis.\n",
        "\n",
        "iterations = 10000\n",
        "learning_rates = [0.1, 0.01, 0.001, 0.0001, 0.2]\n",
        "\n",
        "for lr in learning_rates:\n",
        "    weights, costs = grad_descent(x_train, y_train, lr, iterations)\n",
        "    plt.plot(costs, label=f'Learning Rate: {lr}')\n",
        "\n",
        "plt.title('Cost vs. Iterations for Different Learning Rates')\n",
        "plt.xlabel('Iterations')\n",
        "plt.ylabel('Cost')\n",
        "plt.legend()"
      ],
      "metadata": {
        "colab": {
          "base_uri": "https://localhost:8080/",
          "height": 489
        },
        "id": "QmS4nofdF4e0",
        "outputId": "1cf40435-d11f-4cd0-c40f-bbff8f0fae86"
      },
      "execution_count": 13,
      "outputs": [
        {
          "output_type": "execute_result",
          "data": {
            "text/plain": [
              "<matplotlib.legend.Legend at 0x7946b89e9660>"
            ]
          },
          "metadata": {},
          "execution_count": 13
        },
        {
          "output_type": "display_data",
          "data": {
            "text/plain": [
              "<Figure size 640x480 with 1 Axes>"
            ],
            "image/png": "[encoded data removed]"
          },
          "metadata": {}
        }
      ]
    },
    {
      "cell_type": "markdown",
      "source": [
        "If the learning rate is large, the cost function may potentially overshoot the minimum. If the learning rate is too small, on the other hand, it may take more time to converge."
      ],
      "metadata": {
        "id": "6BHwYxCJPt_0"
      }
    },
    {
      "cell_type": "markdown",
      "source": [
        "## 5. Is there a relationship on the learning rate and the number of iterations?\n",
        "\n",
        "Yes, there is a relationship. Overall, you must find an optimal learning rate,because as stated above, you may either overshoot or have more iterations to converge or failing to converge at all with either high or low learning rates. You may start with a higher learning rate then lower it after some iterations.\n"
      ],
      "metadata": {
        "id": "DHv8w27HPulk"
      }
    },
    {
      "cell_type": "code",
      "source": [
        "## 6. Compare the results with the results of ordinary least squares function.\n",
        "\n",
        "ols_model = LinearRegression()\n",
        "ols_model.fit(x_train.drop('bias', axis=1), y_train)\n",
        "\n",
        "train_pred_ols = ols_model.predict(x_train.drop('bias', axis=1))\n",
        "test_pred_ols = ols_model.predict(x_test.drop('bias', axis=1))\n",
        "\n",
        "mse_train_ols = mean_squared_error(y_train, train_pred_ols)\n",
        "mse_test_ols = mean_squared_error(y_test, test_pred_ols)\n",
        "\n",
        "r2_train_ols = r2_score(y_train, train_pred_ols)\n",
        "r2_test_ols = r2_score(y_test, test_pred_ols)\n",
        "\n",
        "print(\"OLS:\")\n",
        "print(f\"Train MSE: {mse_train_ols}\")\n",
        "print(f\"Test MSE: {mse_test_ols}\")\n",
        "print(f\"Train R2 Score: {r2_train_ols}\")\n",
        "print(f\"Test R2 Score: {r2_test_ols}\")\n",
        "print()\n",
        "print(\"Gradient Descent:\")\n",
        "print(f\"Train MSE: {train_cost}\")\n",
        "print(f\"Test MSE: {test_cost}\")\n",
        "print(f\"Train R2 Score: {train_r2}\")\n",
        "print(f\"Test R2 Score: {test_r2}\")\n"
      ],
      "metadata": {
        "colab": {
          "base_uri": "https://localhost:8080/"
        },
        "id": "zp71pBX-M1lQ",
        "outputId": "41983494-9231-4d3a-8019-5856921f5087"
      },
      "execution_count": 14,
      "outputs": [
        {
          "output_type": "stream",
          "name": "stdout",
          "text": [
            "OLS:\n",
            "Train MSE: 2.7678910780469725\n",
            "Test MSE: 2.880023730094192\n",
            "Train R2 Score: 0.8966445527601499\n",
            "Test R2 Score: 0.8935163320163658\n",
            "\n",
            "Gradient Descent:\n",
            "Train MSE: 1.3839495897488712\n",
            "Test MSE: 1.4403871759225526\n",
            "Train R2 Score: 0.8966445527601499\n",
            "Test R2 Score: 0.8935163320163669\n"
          ]
        }
      ]
    },
    {
      "cell_type": "markdown",
      "source": [
        "In both methods, the R2 scores are similar, meaning that they fit their data comparably well. However, it can be seen that the MSE of the gradient descent is lower which indicates a slighty better performance compared to OLS.\n",
        "In conclusion, linear regression with gradient descent may be the better with this dataset."
      ],
      "metadata": {
        "id": "ME8WbKYCQId8"
      }
    }
  ]
}